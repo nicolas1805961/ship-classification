{
 "cells": [
  {
   "cell_type": "code",
   "execution_count": 1,
   "metadata": {
    "_cell_guid": "b1076dfc-b9ad-4769-8c92-a6c4dae69d19",
    "_uuid": "8f2839f25d086af736a60e9eeb907d3b93b6e0e5"
   },
   "outputs": [],
   "source": [
    "!tar xzf /kaggle/input/files-ships-2020/ships.tgz  # les images dans des répertoires"
   ]
  },
  {
   "cell_type": "markdown",
   "metadata": {},
   "source": [
    "Un générateur de données à la volée, c'est plus lent que d'avoir tout en mémoire mais cela ne consomme rien en mémoire (donc plus le problème avec la normalisation).\n",
    "\n",
    "https://keras.io/preprocessing/image/"
   ]
  },
  {
   "cell_type": "code",
   "execution_count": 2,
   "metadata": {},
   "outputs": [],
   "source": [
    "types = ['coastguard', 'containership', 'corvette', 'cruiser', 'cv', 'destroyer', 'methanier', 'smallfish', 'submarine', 'tug']\n",
    "types_id = {t:i for (i,t) in enumerate(types)}\n",
    "\n",
    "batch_size = 8"
   ]
  },
  {
   "cell_type": "code",
   "execution_count": 3,
   "metadata": {
    "_cell_guid": "79c7e3d0-c299-4dcb-8224-4455121ee9b0",
    "_uuid": "d629ff2d2480ee46fbb7e2d37f6b5fab8052498a"
   },
   "outputs": [
    {
     "name": "stderr",
     "output_type": "stream",
     "text": [
      "Using TensorFlow backend.\n"
     ]
    },
    {
     "name": "stdout",
     "output_type": "stream",
     "text": [
      "Found 35302 images belonging to 10 classes.\n",
      "Found 3919 images belonging to 10 classes.\n"
     ]
    }
   ],
   "source": [
    "from keras.preprocessing.image import ImageDataGenerator \n",
    "\n",
    "train_datagen = ImageDataGenerator(\n",
    "        rescale=1./255,\n",
    "        horizontal_flip=True,\n",
    "        validation_split=0.1)\n",
    "\n",
    "train_generator = train_datagen.flow_from_directory(\n",
    "        'ships_scaled',\n",
    "        target_size=(128, 192 ),\n",
    "        batch_size=batch_size,\n",
    "        subset=\"training\")\n",
    "\n",
    "validation_generator = train_datagen.flow_from_directory(\n",
    "        'ships_scaled',\n",
    "        target_size=(128, 192 ),\n",
    "        batch_size=batch_size,\n",
    "        subset=\"validation\")"
   ]
  },
  {
   "cell_type": "markdown",
   "metadata": {},
   "source": [
    "## Mon réseau\n",
    "\n",
    "C'est un exemple minimaliste qui ne classera rien. A vous d'ajouter des couches pour en faire quelque chose qui marche."
   ]
  },
  {
   "cell_type": "code",
   "execution_count": 4,
   "metadata": {},
   "outputs": [],
   "source": [
    "from keras.models import Model\n",
    "from keras.layers import Input, Dense, Dropout, Flatten, Conv2D, MaxPooling2D, BatchNormalization, Activation\n",
    "from keras import regularizers\n",
    "from keras import optimizers\n",
    "\n",
    "inputs = Input(shape=(128, 192, 3), name='cnn_input')\n",
    "x = Conv2D(32, kernel_size=3, activation='relu')(inputs)\n",
    "x = Conv2D(32, kernel_size=3, activation='relu')(x)\n",
    "x = MaxPooling2D(pool_size=(2,2))(x)\n",
    "x = Dropout(0.4)(x)\n",
    "x = Conv2D(64, kernel_size=3, activation='relu')(x)\n",
    "x = Conv2D(64, kernel_size=3, activation='relu')(x)\n",
    "x = MaxPooling2D(pool_size=(2,2))(x)\n",
    "x = Dropout(0.4)(x)\n",
    "x = Conv2D(128, kernel_size=3, activation='relu')(x)\n",
    "x = Conv2D(128, kernel_size=3, activation='relu')(x)\n",
    "x = MaxPooling2D(pool_size=(2,2))(x)\n",
    "x = Dropout(0.4)(x)\n",
    "x = Conv2D(256, kernel_size=3, activation='relu')(x)\n",
    "x = Conv2D(256, kernel_size=3, activation='relu')(x)\n",
    "x = MaxPooling2D(pool_size=(2,2))(x)\n",
    "x = Dropout(0.4)(x)\n",
    "x = Flatten()(x)\n",
    "x = Dense(1024, activation='relu')(x)\n",
    "x = Dropout(0.4)(x)\n",
    "outputs = Dense(10, activation='softmax')(x)\n",
    "\n",
    "model = Model(inputs, outputs)\n",
    "\n",
    "adamax = optimizers.Adamax(learning_rate=0.002, beta_1=0.9, beta_2=0.999)\n",
    "\n",
    "model.compile(optimizer=adamax,   # pas obligatoirement le meilleur algo pour converger\n",
    "              loss='categorical_crossentropy',\n",
    "              metrics=['accuracy']\n",
    "              )"
   ]
  },
  {
   "cell_type": "code",
   "execution_count": 5,
   "metadata": {},
   "outputs": [],
   "source": [
    "from keras.callbacks import ReduceLROnPlateau\n",
    "\n",
    "learning_rate_reduction = ReduceLROnPlateau(monitor='val_accuracy', \n",
    "                                            patience=3, \n",
    "                                            verbose=1, \n",
    "                                            factor=0.75, \n",
    "                                            min_lr=0.0001)"
   ]
  },
  {
   "cell_type": "code",
   "execution_count": 6,
   "metadata": {},
   "outputs": [
    {
     "name": "stdout",
     "output_type": "stream",
     "text": [
      "Epoch 1/40\n",
      "4412/4412 [==============================] - 89s 20ms/step - loss: 1.5496 - accuracy: 0.4497 - val_loss: 1.2875 - val_accuracy: 0.6876\n",
      "Epoch 2/40\n",
      "4412/4412 [==============================] - 84s 19ms/step - loss: 0.8940 - accuracy: 0.6910 - val_loss: 0.7074 - val_accuracy: 0.7742\n",
      "Epoch 3/40\n",
      "4412/4412 [==============================] - 86s 19ms/step - loss: 0.6981 - accuracy: 0.7612 - val_loss: 1.8768 - val_accuracy: 0.7962\n",
      "Epoch 4/40\n",
      "4412/4412 [==============================] - 83s 19ms/step - loss: 0.2474 - accuracy: 0.9154 - val_loss: 0.0925 - val_accuracy: 0.8906\n",
      "Epoch 19/40\n",
      "4412/4412 [==============================] - 82s 19ms/step - loss: 0.2463 - accuracy: 0.9183 - val_loss: 0.2985 - val_accuracy: 0.8977\n",
      "Epoch 20/40\n",
      "4412/4412 [==============================] - 83s 19ms/step - loss: 0.2445 - accuracy: 0.9175 - val_loss: 1.0133e-06 - val_accuracy: 0.8987\n",
      "Epoch 21/40\n",
      "4412/4412 [==============================] - 83s 19ms/step - loss: 0.2220 - accuracy: 0.9245 - val_loss: 0.4526 - val_accuracy: 0.8990\n",
      "\n",
      "Epoch 00024: ReduceLROnPlateau reducing learning rate to 0.0008437499636784196.\n",
      "Epoch 25/40\n",
      "4412/4412 [==============================] - 82s 19ms/step - loss: 0.1957 - accuracy: 0.9358 - val_loss: 0.0036 - val_accuracy: 0.8972\n",
      "Epoch 26/40\n",
      "4412/4412 [==============================] - 83s 19ms/step - loss: 0.1892 - accuracy: 0.9362 - val_loss: 0.2365 - val_accuracy: 0.8906\n",
      "Epoch 27/40\n",
      "4412/4412 [==============================] - 82s 19ms/step - loss: 0.1814 - accuracy: 0.9402 - val_loss: 1.0741 - val_accuracy: 0.8921\n",
      "\n",
      "Epoch 00027: ReduceLROnPlateau reducing learning rate to 0.0006328124727588147.\n",
      "Epoch 28/40\n",
      "4412/4412 [==============================] - 82s 19ms/step - loss: 0.1726 - accuracy: 0.9419 - val_loss: 0.0024 - val_accuracy: 0.8995\n",
      "Epoch 29/40\n",
      "3581/4412 [=======================>......] - ETA: 14s - loss: 0.1660 - accuracy: 0.9443"
     ]
    }
   ],
   "source": [
    "model.fit_generator(\n",
    "    train_generator,\n",
    "    steps_per_epoch = train_generator.samples // batch_size,\n",
    "    validation_data = validation_generator, \n",
    "    validation_steps = validation_generator.samples // batch_size,\n",
    "    epochs = 40, callbacks=[learning_rate_reduction])   # 10 permet d'avoir une idée mais probablement pas suffisant pour un beau résultat "
   ]
  },
  {
   "cell_type": "code",
   "execution_count": 7,
   "metadata": {},
   "outputs": [],
   "source": [
    "# une autre cellule de fit_generator est possible pour continuer"
   ]
  },
  {
   "cell_type": "markdown",
   "metadata": {},
   "source": [
    "## Analyse des résultats"
   ]
  },
  {
   "cell_type": "code",
   "execution_count": 8,
   "metadata": {},
   "outputs": [],
   "source": [
    "import numpy as np\n",
    "import pandas as pd\n",
    "from keras.utils import np_utils\n",
    "\n",
    "ships = np.load('/kaggle/input/files-ships-2020/ships_test.npz', allow_pickle=True)\n",
    "X_test = ships['X']\n",
    "Y_test = ships['Y']\n",
    "\n",
    "X_test = X_test.astype('float32') / 255\n",
    "Y_test_cat = np_utils.to_categorical(Y_test).astype('bool')"
   ]
  },
  {
   "cell_type": "code",
   "execution_count": 9,
   "metadata": {},
   "outputs": [
    {
     "name": "stdout",
     "output_type": "stream",
     "text": [
      "Test score: 0.35725796687602995\n",
      "Test accuracy: 0.9110000133514404\n"
     ]
    }
   ],
   "source": [
    "score = model.evaluate(X_test, Y_test_cat, verbose=0)\n",
    "print('Test score:', score[0])\n",
    "print('Test accuracy:', score[1])"
   ]
  },
  {
   "cell_type": "code",
   "execution_count": 10,
   "metadata": {},
   "outputs": [
    {
     "data": {
      "text/html": [
       "<div>\n",
       "<style scoped>\n",
       "    .dataframe tbody tr th:only-of-type {\n",
       "        vertical-align: middle;\n",
       "    }\n",
       "\n",
       "    .dataframe tbody tr th {\n",
       "        vertical-align: top;\n",
       "    }\n",
       "\n",
       "    .dataframe thead th {\n",
       "        text-align: right;\n",
       "    }\n",
       "</style>\n",
       "<table border=\"1\" class=\"dataframe\">\n",
       "  <thead>\n",
       "    <tr style=\"text-align: right;\">\n",
       "      <th></th>\n",
       "      <th>coa</th>\n",
       "      <th>con</th>\n",
       "      <th>cor</th>\n",
       "      <th>cru</th>\n",
       "      <th>cv</th>\n",
       "      <th>des</th>\n",
       "      <th>met</th>\n",
       "      <th>sma</th>\n",
       "      <th>sub</th>\n",
       "      <th>tug</th>\n",
       "    </tr>\n",
       "  </thead>\n",
       "  <tbody>\n",
       "    <tr>\n",
       "      <th>coastguard</th>\n",
       "      <td>130</td>\n",
       "      <td>1</td>\n",
       "      <td>12</td>\n",
       "      <td>0</td>\n",
       "      <td>3</td>\n",
       "      <td>5</td>\n",
       "      <td>2</td>\n",
       "      <td>6</td>\n",
       "      <td>1</td>\n",
       "      <td>7</td>\n",
       "    </tr>\n",
       "    <tr>\n",
       "      <th>containership</th>\n",
       "      <td>1</td>\n",
       "      <td>310</td>\n",
       "      <td>1</td>\n",
       "      <td>1</td>\n",
       "      <td>2</td>\n",
       "      <td>2</td>\n",
       "      <td>5</td>\n",
       "      <td>0</td>\n",
       "      <td>0</td>\n",
       "      <td>0</td>\n",
       "    </tr>\n",
       "    <tr>\n",
       "      <th>corvette</th>\n",
       "      <td>4</td>\n",
       "      <td>0</td>\n",
       "      <td>120</td>\n",
       "      <td>0</td>\n",
       "      <td>3</td>\n",
       "      <td>18</td>\n",
       "      <td>0</td>\n",
       "      <td>0</td>\n",
       "      <td>1</td>\n",
       "      <td>0</td>\n",
       "    </tr>\n",
       "    <tr>\n",
       "      <th>cruiser</th>\n",
       "      <td>1</td>\n",
       "      <td>0</td>\n",
       "      <td>1</td>\n",
       "      <td>324</td>\n",
       "      <td>1</td>\n",
       "      <td>0</td>\n",
       "      <td>0</td>\n",
       "      <td>1</td>\n",
       "      <td>0</td>\n",
       "      <td>0</td>\n",
       "    </tr>\n",
       "    <tr>\n",
       "      <th>cv</th>\n",
       "      <td>1</td>\n",
       "      <td>0</td>\n",
       "      <td>1</td>\n",
       "      <td>1</td>\n",
       "      <td>89</td>\n",
       "      <td>7</td>\n",
       "      <td>0</td>\n",
       "      <td>0</td>\n",
       "      <td>2</td>\n",
       "      <td>1</td>\n",
       "    </tr>\n",
       "    <tr>\n",
       "      <th>destroyer</th>\n",
       "      <td>1</td>\n",
       "      <td>0</td>\n",
       "      <td>28</td>\n",
       "      <td>0</td>\n",
       "      <td>5</td>\n",
       "      <td>294</td>\n",
       "      <td>1</td>\n",
       "      <td>0</td>\n",
       "      <td>1</td>\n",
       "      <td>0</td>\n",
       "    </tr>\n",
       "    <tr>\n",
       "      <th>methanier</th>\n",
       "      <td>1</td>\n",
       "      <td>2</td>\n",
       "      <td>0</td>\n",
       "      <td>1</td>\n",
       "      <td>0</td>\n",
       "      <td>0</td>\n",
       "      <td>150</td>\n",
       "      <td>1</td>\n",
       "      <td>2</td>\n",
       "      <td>0</td>\n",
       "    </tr>\n",
       "    <tr>\n",
       "      <th>smallfish</th>\n",
       "      <td>5</td>\n",
       "      <td>1</td>\n",
       "      <td>2</td>\n",
       "      <td>1</td>\n",
       "      <td>0</td>\n",
       "      <td>2</td>\n",
       "      <td>1</td>\n",
       "      <td>144</td>\n",
       "      <td>2</td>\n",
       "      <td>6</td>\n",
       "    </tr>\n",
       "    <tr>\n",
       "      <th>submarine</th>\n",
       "      <td>2</td>\n",
       "      <td>0</td>\n",
       "      <td>6</td>\n",
       "      <td>0</td>\n",
       "      <td>2</td>\n",
       "      <td>3</td>\n",
       "      <td>0</td>\n",
       "      <td>2</td>\n",
       "      <td>108</td>\n",
       "      <td>1</td>\n",
       "    </tr>\n",
       "    <tr>\n",
       "      <th>tug</th>\n",
       "      <td>2</td>\n",
       "      <td>1</td>\n",
       "      <td>0</td>\n",
       "      <td>0</td>\n",
       "      <td>1</td>\n",
       "      <td>2</td>\n",
       "      <td>0</td>\n",
       "      <td>0</td>\n",
       "      <td>1</td>\n",
       "      <td>153</td>\n",
       "    </tr>\n",
       "  </tbody>\n",
       "</table>\n",
       "</div>"
      ],
      "text/plain": [
       "               coa  con  cor  cru  cv  des  met  sma  sub  tug\n",
       "coastguard     130    1   12    0   3    5    2    6    1    7\n",
       "containership    1  310    1    1   2    2    5    0    0    0\n",
       "corvette         4    0  120    0   3   18    0    0    1    0\n",
       "cruiser          1    0    1  324   1    0    0    1    0    0\n",
       "cv               1    0    1    1  89    7    0    0    2    1\n",
       "destroyer        1    0   28    0   5  294    1    0    1    0\n",
       "methanier        1    2    0    1   0    0  150    1    2    0\n",
       "smallfish        5    1    2    1   0    2    1  144    2    6\n",
       "submarine        2    0    6    0   2    3    0    2  108    1\n",
       "tug              2    1    0    0   1    2    0    0    1  153"
      ]
     },
     "execution_count": 10,
     "metadata": {},
     "output_type": "execute_result"
    }
   ],
   "source": [
    "from sklearn.metrics import classification_report, confusion_matrix\n",
    "\n",
    "res = model.predict(X_test).argmax(axis=1)\n",
    "confu = confusion_matrix(Y_test, res)\n",
    "pd.DataFrame({types[i][:3]:confu[:,i] for i in range(len(types))}, index=types)"
   ]
  },
  {
   "cell_type": "code",
   "execution_count": 11,
   "metadata": {},
   "outputs": [
    {
     "name": "stdout",
     "output_type": "stream",
     "text": [
      "               precision    recall  f1-score   support\n",
      "\n",
      "   coastguard       0.88      0.78      0.83       167\n",
      "containership       0.98      0.96      0.97       322\n",
      "     corvette       0.70      0.82      0.76       146\n",
      "      cruiser       0.99      0.99      0.99       328\n",
      "           cv       0.84      0.87      0.86       102\n",
      "    destroyer       0.88      0.89      0.89       330\n",
      "    methanier       0.94      0.96      0.95       157\n",
      "    smallfish       0.94      0.88      0.91       164\n",
      "    submarine       0.92      0.87      0.89       124\n",
      "          tug       0.91      0.96      0.93       160\n",
      "\n",
      "     accuracy                           0.91      2000\n",
      "    macro avg       0.90      0.90      0.90      2000\n",
      " weighted avg       0.91      0.91      0.91      2000\n",
      "\n"
     ]
    }
   ],
   "source": [
    "print(classification_report(Y_test, res, target_names=types))"
   ]
  },
  {
   "cell_type": "markdown",
   "metadata": {},
   "source": [
    "## Soumission des résultats\n",
    "\n",
    "Le fichier suivant sert à soumettre son résultat à la compétition. Pour cela vous devez regarder les Output de votre Kernel (pour cela il semble qu'il faille avoir commité sa feuille sinon le résultat est à chercher dans le répertoire courant) et cliquer sur le bouton Submit to competition."
   ]
  },
  {
   "cell_type": "code",
   "execution_count": 12,
   "metadata": {},
   "outputs": [],
   "source": [
    "ships = np.load('/kaggle/input/files-ships-2020/ships_competition.npz', allow_pickle=True)\n",
    "X_test = ships['X']\n",
    "X_test = X_test.astype('float32') / 255"
   ]
  },
  {
   "cell_type": "code",
   "execution_count": 13,
   "metadata": {},
   "outputs": [],
   "source": [
    "# predict results\n",
    "res = model.predict(X_test).argmax(axis=1)\n",
    "df = pd.DataFrame({\"Category\":res})\n",
    "df.to_csv(\"reco_nav.csv\", index_label=\"Id\")"
   ]
  },
  {
   "cell_type": "code",
   "execution_count": 14,
   "metadata": {},
   "outputs": [
    {
     "name": "stdout",
     "output_type": "stream",
     "text": [
      "Id,Category\r\n",
      "0,1\r\n",
      "1,9\r\n",
      "2,3\r\n",
      "3,3\r\n",
      "4,6\r\n",
      "5,8\r\n",
      "6,1\r\n",
      "7,3\r\n",
      "8,5\r\n"
     ]
    }
   ],
   "source": [
    "!head reco_nav.csv"
   ]
  },
  {
   "cell_type": "code",
   "execution_count": 15,
   "metadata": {},
   "outputs": [
    {
     "data": {
      "text/html": [
       "<a href='reco_nav.csv' target='_blank'>reco_nav.csv</a><br>"
      ],
      "text/plain": [
       "/kaggle/working/reco_nav.csv"
      ]
     },
     "execution_count": 15,
     "metadata": {},
     "output_type": "execute_result"
    }
   ],
   "source": [
    "import os\n",
    "os.chdir(r'/kaggle/working')\n",
    "from IPython.display import FileLink\n",
    "FileLink(r'reco_nav.csv')"
   ]
  },
  {
   "cell_type": "code",
   "execution_count": 16,
   "metadata": {},
   "outputs": [],
   "source": [
    "!rm -rf ships_scaled/"
   ]
  },
  {
   "cell_type": "code",
   "execution_count": null,
   "metadata": {},
   "outputs": [],
   "source": []
  },
  {
   "cell_type": "code",
   "execution_count": null,
   "metadata": {},
   "outputs": [],
   "source": []
  }
 ],
 "metadata": {
  "kernelspec": {
   "display_name": "Python 3",
   "language": "python",
   "name": "python3"
  },
  "language_info": {
   "codemirror_mode": {
    "name": "ipython",
    "version": 3
   },
   "file_extension": ".py",
   "mimetype": "text/x-python",
   "name": "python",
   "nbconvert_exporter": "python",
   "pygments_lexer": "ipython3",
   "version": "3.6.6"
  }
 },
 "nbformat": 4,
 "nbformat_minor": 4
}
